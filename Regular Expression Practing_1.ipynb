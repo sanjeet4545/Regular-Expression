{
 "cells": [
  {
   "cell_type": "markdown",
   "id": "62aeeb80",
   "metadata": {},
   "source": [
    "# Regular Expression Practice Questions and Solutions"
   ]
  },
  {
   "cell_type": "code",
   "execution_count": 1,
   "id": "2b4b6508",
   "metadata": {},
   "outputs": [],
   "source": [
    "import re"
   ]
  },
  {
   "cell_type": "markdown",
   "id": "e7984836",
   "metadata": {},
   "source": [
    "Question 1- Write a RegEx pattern in python program to check that a string contains only a certain set of characters (in this case a-z, A-Z and 0-9)."
   ]
  },
  {
   "cell_type": "code",
   "execution_count": null,
   "id": "09880468",
   "metadata": {},
   "outputs": [],
   "source": [
    "pattern = re.compile('[^a-zA-Z0-9]')"
   ]
  },
  {
   "cell_type": "markdown",
   "id": "78207641",
   "metadata": {},
   "source": [
    "Question 2- Write a RegEx pattern that matches a string that has an a followed by zero or more b's"
   ]
  },
  {
   "cell_type": "code",
   "execution_count": null,
   "id": "179c8f2b",
   "metadata": {},
   "outputs": [],
   "source": [
    "pattern = '^a(b*)$'"
   ]
  },
  {
   "cell_type": "markdown",
   "id": "ed857941",
   "metadata": {},
   "source": [
    "Question 3-  Write a RegEx pattern that matches a string that has an a followed by one or more b's"
   ]
  },
  {
   "cell_type": "code",
   "execution_count": null,
   "id": "11616d6c",
   "metadata": {},
   "outputs": [],
   "source": [
    "pattern = 'ab+?'"
   ]
  },
  {
   "cell_type": "markdown",
   "id": "c37b73df",
   "metadata": {},
   "source": [
    "Question 4- Write a RegEx pattern that matches a string that has an a followed by zero or one 'b'."
   ]
  },
  {
   "cell_type": "code",
   "execution_count": null,
   "id": "be4697a7",
   "metadata": {},
   "outputs": [],
   "source": [
    "patterns = 'ab?'"
   ]
  },
  {
   "cell_type": "markdown",
   "id": "9a7ce8bc",
   "metadata": {},
   "source": [
    "Question 5- Write a RegEx pattern in python program that matches a string that has an a followed by three 'b'."
   ]
  },
  {
   "cell_type": "code",
   "execution_count": null,
   "id": "0a728f1c",
   "metadata": {},
   "outputs": [],
   "source": [
    "pattern = 'ab{3}?'"
   ]
  },
  {
   "cell_type": "markdown",
   "id": "e49bd392",
   "metadata": {},
   "source": [
    "Question 6- Write a RegEx pattern in python program that matches a string that has an a followed by two to three 'b'."
   ]
  },
  {
   "cell_type": "code",
   "execution_count": null,
   "id": "4b36757e",
   "metadata": {},
   "outputs": [],
   "source": [
    "pattern = 'ab{2,3}'"
   ]
  },
  {
   "cell_type": "markdown",
   "id": "1aa9f981",
   "metadata": {},
   "source": [
    "Question 7- Write a Python program that matches a string that has an 'a' followed by anything, ending in 'b'."
   ]
  },
  {
   "cell_type": "code",
   "execution_count": null,
   "id": "7f826dae",
   "metadata": {},
   "outputs": [],
   "source": [
    "pattern = 'a.*?b$'"
   ]
  },
  {
   "cell_type": "markdown",
   "id": "93972515",
   "metadata": {},
   "source": [
    "Question 8- Write a RegEx pattern in python program that matches a word at the beginning of a string."
   ]
  },
  {
   "cell_type": "code",
   "execution_count": null,
   "id": "83df7f10",
   "metadata": {},
   "outputs": [],
   "source": [
    "pattern = '^\\w+'"
   ]
  },
  {
   "cell_type": "markdown",
   "id": "ccea89f0",
   "metadata": {},
   "source": [
    "Question 9- Write a RegEx pattern in python program that matches a word at the end of a string."
   ]
  },
  {
   "cell_type": "code",
   "execution_count": null,
   "id": "69d077ca",
   "metadata": {},
   "outputs": [],
   "source": [
    "pattern = '\\w+\\S*$'"
   ]
  },
  {
   "cell_type": "code",
   "execution_count": null,
   "id": "1305932b",
   "metadata": {},
   "outputs": [],
   "source": [
    "Write a RegEx pattern in python program to find all words that are 4 digits long in a string."
   ]
  },
  {
   "cell_type": "code",
   "execution_count": null,
   "id": "06b9a176",
   "metadata": {},
   "outputs": [],
   "source": [
    "pattern = \"\\b\\w{4,}\\b\""
   ]
  }
 ],
 "metadata": {
  "kernelspec": {
   "display_name": "Python 3 (ipykernel)",
   "language": "python",
   "name": "python3"
  },
  "language_info": {
   "codemirror_mode": {
    "name": "ipython",
    "version": 3
   },
   "file_extension": ".py",
   "mimetype": "text/x-python",
   "name": "python",
   "nbconvert_exporter": "python",
   "pygments_lexer": "ipython3",
   "version": "3.9.13"
  }
 },
 "nbformat": 4,
 "nbformat_minor": 5
}
